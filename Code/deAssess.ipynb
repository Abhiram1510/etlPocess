{
 "cells": [
  {
   "cell_type": "code",
   "execution_count": 0,
   "metadata": {
    "application/vnd.databricks.v1+cell": {
     "cellMetadata": {
      "byteLimit": 2048000,
      "rowLimit": 10000
     },
     "inputWidgets": {},
     "nuid": "acfe480a-21f5-4982-834e-1eb8f8397574",
     "showTitle": false,
     "title": ""
    }
   },
   "outputs": [
    {
     "output_type": "stream",
     "name": "stdout",
     "output_type": "stream",
     "text": [
      "+-------------+-----------+---------+-------------------+--------------+-------+-----+-------+--------+---------+\n|Customer_Name|Customer_Id|Open_Date|Last_Consulted_Date|Vaccination_Id|Dr_Name|State|Country|     DOB|Is_Active|\n+-------------+-----------+---------+-------------------+--------------+-------+-----+-------+--------+---------+\n|         Alex|     123457| 20101012|           20121013|           MVD|   Paul|   SA|    USA|19870306|        A|\n|         John|     123458| 20101012|           20121013|           MVD|   Paul|   TN|    IND|19870306|        A|\n|       Mathew|     123459| 20101012|           20121013|           MVD|   Paul|  WAS|   PHIL|19870306|        A|\n|         Matt|      12345| 20101012|           20121013|           MVD|   Paul|  BOS|    NYC|19870306|        A|\n|        Jacob|       1256| 20101012|           20121013|           MVD|   Paul|  VIC|     AU|19870306|        A|\n|        Emily|     123460| 20101013|           20121114|           MVD|   Paul|   CA|    USA|19850203|        A|\n|       Sophia|     123461| 20101014|           20121215|         COVID|   John|   TX|    USA|19900125|        A|\n|      Michael|     123462| 20101015|           20121316|         COVID|   John|   DL|    IND|19860912|        I|\n|        James|     123463| 20101016|           20121417|         COVID|   Paul|   WA|    USA|19930228|        A|\n|      William|     123464| 20101017|           20121518|           MVD|   Paul|  NSW|     AU|19871111|        A|\n|        Ethan|     123465| 20101018|           20121619|         COVID|   Paul|   ON|    CAN|19880330|        I|\n|       Olivia|     123466| 20101019|           20121720|         COVID|   Paul|   BC|    CAN|19950515|        A|\n|          Ava|     123467| 20101020|           20121821|           MVD|   Paul|   QC|    CAN|19851223|        I|\n|          Mia|     123468| 20101021|           20121922|           MVD|   Paul|   TX|    USA|19940709|        A|\n|     Isabella|     123469| 20101022|           20122023|         COVID|   Paul|   CA|    USA|19960818|        A|\n|         Liam|     123470| 20101023|           20122124|         COVID|   Paul|   ON|    CAN|19881007|        A|\n|         Noah|     123471| 20101024|           20122225|           MVD|   Paul|  NSW|     AU|19910305|        A|\n|        Lucas|     123472| 20101025|           20122326|           MVD|   Paul|  VIC|     AU|19891211|        I|\n|        Henry|     123473| 20101026|           20122427|         COVID|   Paul|   TX|    USA|19931203|        A|\n|       Oliver|     123474| 20101027|           20122528|           MVD|   Paul|   CA|    USA|19980421|        A|\n+-------------+-----------+---------+-------------------+--------------+-------+-----+-------+--------+---------+\n\n"
     ]
    }
   ],
   "source": [
    "# Adjust the path based on where your file is stored in DBFS\n",
    "file_path = \"dbfs:/FileStore/cust/cust.csv\"\n",
    "\n",
    "# Read the CSV file into a DataFrame\n",
    "df = spark.read.csv(file_path, header=True, inferSchema=True)\n",
    "\n",
    "# Show the first few rows\n",
    "df.show()\n"
   ]
  },
  {
   "cell_type": "code",
   "execution_count": 0,
   "metadata": {
    "application/vnd.databricks.v1+cell": {
     "cellMetadata": {
      "byteLimit": 2048000,
      "rowLimit": 10000
     },
     "inputWidgets": {},
     "nuid": "999b2c54-dc82-47e1-ad4a-f9957645a349",
     "showTitle": false,
     "title": ""
    }
   },
   "outputs": [
    {
     "output_type": "stream",
     "name": "stdout",
     "output_type": "stream",
     "text": [
      "root\n |-- Customer_Name: string (nullable = true)\n |-- Customer_Id: integer (nullable = true)\n |-- Open_Date: integer (nullable = true)\n |-- Last_Consulted_Date: integer (nullable = true)\n |-- Vaccination_Id: string (nullable = true)\n |-- Dr_Name: string (nullable = true)\n |-- State: string (nullable = true)\n |-- Country: string (nullable = true)\n |-- DOB: integer (nullable = true)\n |-- Is_Active: string (nullable = true)\n\n"
     ]
    }
   ],
   "source": [
    "df.printSchema()\n"
   ]
  },
  {
   "cell_type": "code",
   "execution_count": 0,
   "metadata": {
    "application/vnd.databricks.v1+cell": {
     "cellMetadata": {
      "byteLimit": 2048000,
      "rowLimit": 10000
     },
     "inputWidgets": {},
     "nuid": "6e49fad3-7d07-4ecd-b404-372af1b363b7",
     "showTitle": false,
     "title": ""
    }
   },
   "outputs": [
    {
     "output_type": "stream",
     "name": "stdout",
     "output_type": "stream",
     "text": [
      "+-------------+-----------+---------+-------------------+--------------+-------+-----+-------+--------+---------+----------+---+-----------------------------+----------------------------+\n|Customer_Name|Customer_Id|Open_Date|Last_Consulted_Date|Vaccination_Id|Dr_Name|State|Country|     DOB|Is_Active|  DOB_Date|Age|Last_Consulted_Date_Formatted|Days_Since_Last_Consultation|\n+-------------+-----------+---------+-------------------+--------------+-------+-----+-------+--------+---------+----------+---+-----------------------------+----------------------------+\n|         Alex|     123457| 20101012|           20121013|           MVD|   Paul|   SA|    USA|19870306|        A|1987-03-06| 37|                   2012-10-13|                        4383|\n|         John|     123458| 20101012|           20121013|           MVD|   Paul|   TN|    IND|19870306|        A|1987-03-06| 37|                   2012-10-13|                        4383|\n|       Mathew|     123459| 20101012|           20121013|           MVD|   Paul|  WAS|   PHIL|19870306|        A|1987-03-06| 37|                   2012-10-13|                        4383|\n|         Matt|      12345| 20101012|           20121013|           MVD|   Paul|  BOS|    NYC|19870306|        A|1987-03-06| 37|                   2012-10-13|                        4383|\n|        Jacob|       1256| 20101012|           20121013|           MVD|   Paul|  VIC|     AU|19870306|        A|1987-03-06| 37|                   2012-10-13|                        4383|\n|        Emily|     123460| 20101013|           20121114|           MVD|   Paul|   CA|    USA|19850203|        A|1985-02-03| 39|                   2012-11-14|                        4351|\n|       Sophia|     123461| 20101014|           20121215|         COVID|   John|   TX|    USA|19900125|        A|1990-01-25| 34|                   2012-12-15|                        4320|\n|      Michael|     123462| 20101015|           20121316|         COVID|   John|   DL|    IND|19860912|        I|1986-09-12| 38|                         null|                        null|\n|        James|     123463| 20101016|           20121417|         COVID|   Paul|   WA|    USA|19930228|        A|1993-02-28| 31|                         null|                        null|\n|      William|     123464| 20101017|           20121518|           MVD|   Paul|  NSW|     AU|19871111|        A|1987-11-11| 37|                         null|                        null|\n|        Ethan|     123465| 20101018|           20121619|         COVID|   Paul|   ON|    CAN|19880330|        I|1988-03-30| 36|                         null|                        null|\n|       Olivia|     123466| 20101019|           20121720|         COVID|   Paul|   BC|    CAN|19950515|        A|1995-05-15| 29|                         null|                        null|\n|          Ava|     123467| 20101020|           20121821|           MVD|   Paul|   QC|    CAN|19851223|        I|1985-12-23| 39|                         null|                        null|\n|          Mia|     123468| 20101021|           20121922|           MVD|   Paul|   TX|    USA|19940709|        A|1994-07-09| 30|                         null|                        null|\n|     Isabella|     123469| 20101022|           20122023|         COVID|   Paul|   CA|    USA|19960818|        A|1996-08-18| 28|                         null|                        null|\n|         Liam|     123470| 20101023|           20122124|         COVID|   Paul|   ON|    CAN|19881007|        A|1988-10-07| 36|                         null|                        null|\n|         Noah|     123471| 20101024|           20122225|           MVD|   Paul|  NSW|     AU|19910305|        A|1991-03-05| 33|                         null|                        null|\n|        Lucas|     123472| 20101025|           20122326|           MVD|   Paul|  VIC|     AU|19891211|        I|1989-12-11| 35|                         null|                        null|\n|        Henry|     123473| 20101026|           20122427|         COVID|   Paul|   TX|    USA|19931203|        A|1993-12-03| 31|                         null|                        null|\n|       Oliver|     123474| 20101027|           20122528|           MVD|   Paul|   CA|    USA|19980421|        A|1998-04-21| 26|                         null|                        null|\n+-------------+-----------+---------+-------------------+--------------+-------+-----+-------+--------+---------+----------+---+-----------------------------+----------------------------+\n\n"
     ]
    }
   ],
   "source": [
    "from pyspark.sql.functions import current_date, datediff, year, to_date\n",
    "\n",
    "# Step 1: Convert DOB and Last_Consulted_Date from integer to date type\n",
    "df = df.withColumn(\"DOB_Date\", to_date(df[\"DOB\"].cast(\"string\"), \"yyyyMMdd\"))\n",
    "df = df.withColumn(\"Last_Consulted_Date_Formatted\", to_date(df[\"Last_Consulted_Date\"].cast(\"string\"), \"yyyyMMdd\"))\n",
    "\n",
    "# Step 2: Add derived columns (Age and Days Since Last Consultation)\n",
    "df = df.withColumn(\"Age\", year(current_date()) - year(df[\"DOB_Date\"]))\n",
    "df = df.withColumn(\"Days_Since_Last_Consultation\", datediff(current_date(), df[\"Last_Consulted_Date_Formatted\"]))\n",
    "\n",
    "# Step 3: Show the updated data\n",
    "df.show()\n"
   ]
  },
  {
   "cell_type": "code",
   "execution_count": 0,
   "metadata": {
    "application/vnd.databricks.v1+cell": {
     "cellMetadata": {
      "byteLimit": 2048000,
      "rowLimit": 10000
     },
     "inputWidgets": {},
     "nuid": "8b797e08-6838-427c-bb77-afc803b58386",
     "showTitle": false,
     "title": ""
    }
   },
   "outputs": [],
   "source": [
    "output_path = \"dbfs:/FileStore/cust/partCust\"\n",
    "df.write.partitionBy(\"Country\").parquet(output_path)\n"
   ]
  }
 ],
 "metadata": {
  "application/vnd.databricks.v1+notebook": {
   "dashboards": [],
   "environmentMetadata": null,
   "language": "python",
   "notebookMetadata": {
    "pythonIndentUnit": 4
   },
   "notebookName": "deAssess",
   "widgets": {}
  }
 },
 "nbformat": 4,
 "nbformat_minor": 0
}
